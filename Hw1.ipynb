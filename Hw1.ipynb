{
  "nbformat": 4,
  "nbformat_minor": 0,
  "metadata": {
    "colab": {
      "provenance": []
    },
    "kernelspec": {
      "name": "python3",
      "display_name": "Python 3"
    },
    "language_info": {
      "name": "python"
    }
  },
  "cells": [
    {
      "cell_type": "markdown",
      "source": [
        "Створення одновимірного масиву з першими 10 натуральними числами та виведення їх значень:"
      ],
      "metadata": {
        "id": "yvfQSEHSg7Ri"
      }
    },
    {
      "cell_type": "code",
      "execution_count": 6,
      "metadata": {
        "colab": {
          "base_uri": "https://localhost:8080/"
        },
        "id": "2iKaOEhpg6wH",
        "outputId": "c6dfd683-bd32-4f94-8386-2745ce015315"
      },
      "outputs": [
        {
          "output_type": "stream",
          "name": "stdout",
          "text": [
            "[1, 2, 3, 4, 5, 6, 7, 8, 9, 10]\n"
          ]
        }
      ],
      "source": [
        "import numpy as np\n",
        "one_dimensional_array = list(range(1, 11))\n",
        "print(one_dimensional_array)\n"
      ]
    },
    {
      "cell_type": "markdown",
      "source": [
        "Створення двовимірного масиву розміром 3x3, заповненого нулями, та виведення його значень:"
      ],
      "metadata": {
        "id": "jWtes4QJg9Pn"
      }
    },
    {
      "cell_type": "code",
      "source": [
        "\n",
        "two_dimensional_array = np.zeros((3, 3))\n",
        "print(two_dimensional_array)\n"
      ],
      "metadata": {
        "colab": {
          "base_uri": "https://localhost:8080/"
        },
        "id": "uCatRnHLg9b3",
        "outputId": "0ae102cd-bb30-40d8-c413-a2a5dd8151cf"
      },
      "execution_count": 7,
      "outputs": [
        {
          "output_type": "stream",
          "name": "stdout",
          "text": [
            "[[0. 0. 0.]\n",
            " [0. 0. 0.]\n",
            " [0. 0. 0.]]\n"
          ]
        }
      ]
    },
    {
      "cell_type": "markdown",
      "source": [
        "Створення масиву розміром 5x5 з випадковими цілими числами від 1 до 10 та виведення його значень:"
      ],
      "metadata": {
        "id": "y4CiPHOthDGR"
      }
    },
    {
      "cell_type": "code",
      "source": [
        "\n",
        "\n",
        "random_array = np.random.randint(1, 11, (5, 5))\n",
        "print(random_array)\n"
      ],
      "metadata": {
        "colab": {
          "base_uri": "https://localhost:8080/"
        },
        "id": "boFfWZ5OhDc4",
        "outputId": "00e85044-f295-4925-b9b8-43c2c9b5e936"
      },
      "execution_count": 8,
      "outputs": [
        {
          "output_type": "stream",
          "name": "stdout",
          "text": [
            "[[ 1  6  5  1  9]\n",
            " [ 3  9 10  3  8]\n",
            " [ 6  9  8  1  9]\n",
            " [ 5  7  5  6  8]\n",
            " [ 7  7  1 10  4]]\n"
          ]
        }
      ]
    },
    {
      "cell_type": "markdown",
      "source": [
        "Cтворення масиву розміром 4x4 з випадковими дійсними числами від 0 до 1 та виведення його значень:"
      ],
      "metadata": {
        "id": "FE_98tzAhFWv"
      }
    },
    {
      "cell_type": "code",
      "source": [
        "\n",
        "\n",
        "random_float_array = np.random.rand(4, 4)\n",
        "print(random_float_array)\n"
      ],
      "metadata": {
        "colab": {
          "base_uri": "https://localhost:8080/"
        },
        "id": "7kRJ9E6IhHBy",
        "outputId": "bf1f2f61-2c64-4449-f633-6eee6ff22645"
      },
      "execution_count": 9,
      "outputs": [
        {
          "output_type": "stream",
          "name": "stdout",
          "text": [
            "[[0.20275409 0.37024087 0.07247702 0.25566389]\n",
            " [0.05999505 0.93393026 0.81112444 0.97728858]\n",
            " [0.91048635 0.97503806 0.22496123 0.39300118]\n",
            " [0.59670233 0.40231755 0.93336247 0.97528781]]\n"
          ]
        }
      ]
    },
    {
      "cell_type": "markdown",
      "source": [
        "Створення двох одновимірних масивів розміром 5 з випадковими цілими числами від 1 до 10 та виконання поелементних операцій додавання, віднімання та множення:"
      ],
      "metadata": {
        "id": "_25qkgTEhJgv"
      }
    },
    {
      "cell_type": "code",
      "source": [
        "\n",
        "\n",
        "array1 = np.random.randint(1, 11, 5)\n",
        "array2 = np.random.randint(1, 11, 5)\n",
        "\n",
        "addition_result = array1 + array2\n",
        "subtraction_result = array1 - array2\n",
        "multiplication_result = array1 * array2\n",
        "\n",
        "print(\"Addition:\", addition_result)\n",
        "print(\"Subtraction:\", subtraction_result)\n",
        "print(\"Multiplication:\", multiplication_result)\n"
      ],
      "metadata": {
        "colab": {
          "base_uri": "https://localhost:8080/"
        },
        "id": "jlk2ckIZhKQP",
        "outputId": "a08f0008-0496-4759-a265-b21b05eaa5fc"
      },
      "execution_count": 10,
      "outputs": [
        {
          "output_type": "stream",
          "name": "stdout",
          "text": [
            "Addition: [ 9  8  7 10 11]\n",
            "Subtraction: [-1 -2  5  2 -5]\n",
            "Multiplication: [20 15  6 24 24]\n"
          ]
        }
      ]
    },
    {
      "cell_type": "markdown",
      "source": [
        "Створення двох векторів розміром 7 з довільними числами та знаходження їх скалярного добутку:"
      ],
      "metadata": {
        "id": "o2UapjJWhM3H"
      }
    },
    {
      "cell_type": "code",
      "source": [
        "\n",
        "\n",
        "vector1 = np.random.rand(7)\n",
        "vector2 = np.random.rand(7)\n",
        "\n",
        "dot_product = np.dot(vector1, vector2)\n",
        "print(\"Scalar Dot Product:\", dot_product)\n"
      ],
      "metadata": {
        "colab": {
          "base_uri": "https://localhost:8080/"
        },
        "id": "AcIsFcFbhOQX",
        "outputId": "c32724c2-85ee-4e83-d8ab-e800c3f5184a"
      },
      "execution_count": 11,
      "outputs": [
        {
          "output_type": "stream",
          "name": "stdout",
          "text": [
            "Scalar Dot Product: 1.8150783582738677\n"
          ]
        }
      ]
    },
    {
      "cell_type": "markdown",
      "source": [
        "Створення двох матриць розміром 2x2 та 2x3, заповнення їх випадковими цілими числами від 1 до 10 та перемноження їх:"
      ],
      "metadata": {
        "id": "T7pLrIZehX7Y"
      }
    },
    {
      "cell_type": "code",
      "source": [
        "\n",
        "\n",
        "matrix1 = np.random.randint(1, 11, (2, 2))\n",
        "matrix2 = np.random.randint(1, 11, (2, 3))\n",
        "\n",
        "result = np.dot(matrix1, matrix2)\n",
        "print(result)\n"
      ],
      "metadata": {
        "colab": {
          "base_uri": "https://localhost:8080/"
        },
        "id": "2iSF0iHChZSH",
        "outputId": "cdc75f9f-edd2-492f-da3a-4c5e765d8d48"
      },
      "execution_count": 12,
      "outputs": [
        {
          "output_type": "stream",
          "name": "stdout",
          "text": [
            "[[ 99 171 117]\n",
            " [ 15  28  20]]\n"
          ]
        }
      ]
    },
    {
      "cell_type": "markdown",
      "source": [
        "Створення матриці розміром 3x3, заповнення її випадковими цілими числами від 1 до 10 та знаходження її оберненої матриці (при умові, що матриця є оборотною):"
      ],
      "metadata": {
        "id": "mhRH3KXvhaYH"
      }
    },
    {
      "cell_type": "code",
      "source": [
        "\n",
        "\n",
        "matrix = np.random.randint(1, 11, (3, 3))\n",
        "\n",
        "try:\n",
        "    inverse_matrix = np.linalg.inv(matrix)\n",
        "    print(inverse_matrix)\n",
        "except np.linalg.LinAlgError:\n",
        "    print(\"Matrix is not invertible.\")\n"
      ],
      "metadata": {
        "colab": {
          "base_uri": "https://localhost:8080/"
        },
        "id": "yuM_3MZihblA",
        "outputId": "60c23d43-707d-4054-bbb0-f98d686a9c66"
      },
      "execution_count": 13,
      "outputs": [
        {
          "output_type": "stream",
          "name": "stdout",
          "text": [
            "[[ 0.55223881  0.07462687 -0.64179104]\n",
            " [-0.10447761 -0.14925373  0.28358209]\n",
            " [-0.07462687  0.17910448  0.05970149]]\n"
          ]
        }
      ]
    },
    {
      "cell_type": "markdown",
      "source": [
        "Створення матриці розміром 4x4 з випадковими дійсними числами від 0 до 1 та транспонування її:"
      ],
      "metadata": {
        "id": "LSmPyp_ZhiYH"
      }
    },
    {
      "cell_type": "code",
      "source": [
        "\n",
        "\n",
        "matrix = np.random.rand(4, 4)\n",
        "transposed_matrix = matrix.T\n",
        "print(transposed_matrix)\n"
      ],
      "metadata": {
        "colab": {
          "base_uri": "https://localhost:8080/"
        },
        "id": "DPuPHW1qhis3",
        "outputId": "675ba5ee-4113-43dc-e661-f798087fa19d"
      },
      "execution_count": 14,
      "outputs": [
        {
          "output_type": "stream",
          "name": "stdout",
          "text": [
            "[[0.50300033 0.69830992 0.9833733  0.13113397]\n",
            " [0.38702969 0.71827889 0.05172286 0.08062171]\n",
            " [0.90690359 0.28439669 0.73495466 0.54666549]\n",
            " [0.79852659 0.23493433 0.37943166 0.93882929]]\n"
          ]
        }
      ]
    },
    {
      "cell_type": "markdown",
      "source": [
        "Створення матриці розміром 3x4 та вектору розміром 4, заповнення їх випадковими цілими числами від 1 до 10 та перемноження матриці на вектор:"
      ],
      "metadata": {
        "id": "G_tKBwZhhj_J"
      }
    },
    {
      "cell_type": "code",
      "source": [
        "\n",
        "\n",
        "matrix = np.random.randint(1, 11, (3, 4))\n",
        "vector = np.random.randint(1, 11, 4)\n",
        "\n",
        "result = np.dot(matrix, vector)\n",
        "print(result)\n"
      ],
      "metadata": {
        "colab": {
          "base_uri": "https://localhost:8080/"
        },
        "id": "JAAORSLRhkvX",
        "outputId": "c7858119-9792-4c67-feee-46af64556cdf"
      },
      "execution_count": 15,
      "outputs": [
        {
          "output_type": "stream",
          "name": "stdout",
          "text": [
            "[198 118 189]\n"
          ]
        }
      ]
    },
    {
      "cell_type": "markdown",
      "source": [
        "Створення матриці розміром 2x3 та вектору розміром 3, заповнення їх випадковими дійсними числами від 0 до 1 та перемноження матриці на вектор:"
      ],
      "metadata": {
        "id": "RgegSfAhhm7-"
      }
    },
    {
      "cell_type": "code",
      "source": [
        "\n",
        "\n",
        "matrix = np.random.rand(2, 3)\n",
        "vector = np.random.rand(3)\n",
        "\n",
        "result = np.dot(matrix, vector)\n",
        "print(result)\n"
      ],
      "metadata": {
        "colab": {
          "base_uri": "https://localhost:8080/"
        },
        "id": "yfru4N6zhn3I",
        "outputId": "7d9b0572-dfb3-489c-d080-a2273271f34e"
      },
      "execution_count": 16,
      "outputs": [
        {
          "output_type": "stream",
          "name": "stdout",
          "text": [
            "[0.07973761 0.1444209 ]\n"
          ]
        }
      ]
    },
    {
      "cell_type": "markdown",
      "source": [
        "Створення двох матриць розміром 2x2, заповнення їх випадковими цілими числами від 1 до 10 та виконання поелементного множення:"
      ],
      "metadata": {
        "id": "yzMb2DCDhxdn"
      }
    },
    {
      "cell_type": "code",
      "source": [
        "\n",
        "\n",
        "matrix1 = np.random.randint(1, 11, (2, 2))\n",
        "matrix2 = np.random.randint(1, 11, (2, 2))\n",
        "\n",
        "elementwise_product = np.multiply(matrix1, matrix2)\n",
        "print(elementwise_product)\n"
      ],
      "metadata": {
        "colab": {
          "base_uri": "https://localhost:8080/"
        },
        "id": "lQeJ3A4Yhyjf",
        "outputId": "920f48ae-99fa-4bdd-9c54-949475769637"
      },
      "execution_count": 17,
      "outputs": [
        {
          "output_type": "stream",
          "name": "stdout",
          "text": [
            "[[ 6 20]\n",
            " [30  7]]\n"
          ]
        }
      ]
    },
    {
      "cell_type": "markdown",
      "source": [
        "Створення двох матриць розміром 2x2, заповнення їх випадковими цілими числами від 1 до 10 та знаходження їх добутку:"
      ],
      "metadata": {
        "id": "fH_roS1Zh0Wf"
      }
    },
    {
      "cell_type": "code",
      "source": [
        "\n",
        "\n",
        "matrix1 = np.random.randint(1, 11, (2, 2))\n",
        "matrix2 = np.random.randint(1, 11, (2, 2))\n",
        "\n",
        "matrix_product = np.dot(matrix1, matrix2)\n",
        "print(matrix_product)\n"
      ],
      "metadata": {
        "colab": {
          "base_uri": "https://localhost:8080/"
        },
        "id": "RjIhwFRKh5oH",
        "outputId": "bea6992a-321e-466f-ebfd-c593539267e4"
      },
      "execution_count": 18,
      "outputs": [
        {
          "output_type": "stream",
          "name": "stdout",
          "text": [
            "[[84 84]\n",
            " [65 70]]\n"
          ]
        }
      ]
    },
    {
      "cell_type": "markdown",
      "source": [
        "Створення матриці розміром 5x5, заповнення її випадковими цілими числами від 1 до 100 та знаходження суми елементів матриці:"
      ],
      "metadata": {
        "id": "WuCjZr5Uh7lX"
      }
    },
    {
      "cell_type": "code",
      "source": [
        "\n",
        "\n",
        "matrix = np.random.randint(1, 101, (5, 5))\n",
        "matrix_sum = np.sum(matrix)\n",
        "print(\"Матриця:\\n\", matrix)\n",
        "print(\"Сума елементів матриці:\", matrix_sum)\n"
      ],
      "metadata": {
        "colab": {
          "base_uri": "https://localhost:8080/"
        },
        "id": "AlOcf49Bh8RX",
        "outputId": "289f9e8c-92f3-4819-e4e4-2a152b31fef2"
      },
      "execution_count": 19,
      "outputs": [
        {
          "output_type": "stream",
          "name": "stdout",
          "text": [
            "Матриця:\n",
            " [[78 15 51 84 62]\n",
            " [59 77 65 87 25]\n",
            " [16 92 81 92 78]\n",
            " [65 96 27 85 79]\n",
            " [ 4 86 59 10 25]]\n",
            "Сума елементів матриці: 1498\n"
          ]
        }
      ]
    },
    {
      "cell_type": "markdown",
      "source": [
        "Створення двох матриць розміром 4x4, заповнення їх випадковими цілими числами від 1 до 10 та знаходження їх різниці:"
      ],
      "metadata": {
        "id": "bNicFL8Oh92X"
      }
    },
    {
      "cell_type": "code",
      "source": [
        "\n",
        "\n",
        "matrix1 = np.random.randint(1, 11, (4, 4))\n",
        "matrix2 = np.random.randint(1, 11, (4, 4))\n",
        "\n",
        "matrix_difference = matrix1 - matrix2\n",
        "print(matrix_difference)\n"
      ],
      "metadata": {
        "colab": {
          "base_uri": "https://localhost:8080/"
        },
        "id": "lTvTd6gqh-Iw",
        "outputId": "eb133a06-25bf-4b2e-87c7-228e8d13b5c9"
      },
      "execution_count": 20,
      "outputs": [
        {
          "output_type": "stream",
          "name": "stdout",
          "text": [
            "[[ 3  5 -1 -3]\n",
            " [-3 -5  2 -5]\n",
            " [ 4  1  9 -3]\n",
            " [-4 -4  0  0]]\n"
          ]
        }
      ]
    },
    {
      "cell_type": "markdown",
      "source": [
        "Створення матриці розміром 3x3, заповнення її випадковими дійсними числами від 0 до 1 та знаходження вектора-стовпчика, що містить суму елементів кожного рядка матриці:\n"
      ],
      "metadata": {
        "id": "2BZN4iaJiAwX"
      }
    },
    {
      "cell_type": "code",
      "source": [
        "\n",
        "matrix = np.random.rand(3, 3)\n",
        "row_sums = matrix.sum(axis=1)\n",
        "column_vector = row_sums.reshape(3, 1)\n",
        "print(column_vector)\n"
      ],
      "metadata": {
        "colab": {
          "base_uri": "https://localhost:8080/"
        },
        "id": "yB9Arg35iAQP",
        "outputId": "494bdf71-62d8-47bf-dddf-d5e33a620da1"
      },
      "execution_count": 23,
      "outputs": [
        {
          "output_type": "stream",
          "name": "stdout",
          "text": [
            "[[1.83298994]\n",
            " [1.74662361]\n",
            " [1.30549248]]\n"
          ]
        }
      ]
    },
    {
      "cell_type": "markdown",
      "source": [
        "Створення матриці розміром 3x4 з довільними цілими числами та створення матриці з квадратами цих чисел:"
      ],
      "metadata": {
        "id": "i_MYyEqKiF1I"
      }
    },
    {
      "cell_type": "code",
      "source": [
        "\n",
        "matrix = np.random.randint(1, 101, (3, 4))\n",
        "squared_matrix = np.square(matrix)\n",
        "print(\"Оригінальна матриця:\\n\", matrix)\n",
        "print(\"Матриця з квадратами чисел:\\n\", squared_matrix)\n"
      ],
      "metadata": {
        "colab": {
          "base_uri": "https://localhost:8080/"
        },
        "id": "8K_Y-xd9iHjX",
        "outputId": "d316bd20-cab1-4762-daf1-76d08f1abb29"
      },
      "execution_count": 24,
      "outputs": [
        {
          "output_type": "stream",
          "name": "stdout",
          "text": [
            "Оригінальна матриця:\n",
            " [[ 74  29  39  85]\n",
            " [100   9  25  89]\n",
            " [  9  88  91  38]]\n",
            "Матриця з квадратами чисел:\n",
            " [[ 5476   841  1521  7225]\n",
            " [10000    81   625  7921]\n",
            " [   81  7744  8281  1444]]\n"
          ]
        }
      ]
    },
    {
      "cell_type": "markdown",
      "source": [
        "Створення вектора розміром 4, заповненого випадковими цілими числами в діапазоні від 1 до 50 та знаходження вектора з квадратними коренями цих чисел:"
      ],
      "metadata": {
        "id": "VAAQ4ZReiIY4"
      }
    },
    {
      "cell_type": "code",
      "source": [
        "\n",
        "vector = np.random.randint(1, 51, 4)\n",
        "square_root_vector = np.sqrt(vector)\n",
        "print(\"Оригінальний вектор:\\n\", vector)\n",
        "print(\"Вектор з квадратними коренями:\\n\", square_root_vector)\n"
      ],
      "metadata": {
        "colab": {
          "base_uri": "https://localhost:8080/"
        },
        "id": "FZ7V5unJiJcX",
        "outputId": "1e607a5f-a99f-4e5b-ae76-19aba6b2c084"
      },
      "execution_count": 25,
      "outputs": [
        {
          "output_type": "stream",
          "name": "stdout",
          "text": [
            "Оригінальний вектор:\n",
            " [38 38 22 32]\n",
            "Вектор з квадратними коренями:\n",
            " [6.164414   6.164414   4.69041576 5.65685425]\n"
          ]
        }
      ]
    }
  ]
}